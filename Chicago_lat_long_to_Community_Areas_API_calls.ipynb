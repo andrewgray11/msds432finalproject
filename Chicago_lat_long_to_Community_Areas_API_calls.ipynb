{
  "nbformat": 4,
  "nbformat_minor": 0,
  "metadata": {
    "colab": {
      "provenance": [],
      "authorship_tag": "ABX9TyPWrvEIPE57+neiaHAK8Z7o",
      "include_colab_link": true
    },
    "kernelspec": {
      "name": "python3",
      "display_name": "Python 3"
    },
    "language_info": {
      "name": "python"
    }
  },
  "cells": [
    {
      "cell_type": "markdown",
      "metadata": {
        "id": "view-in-github",
        "colab_type": "text"
      },
      "source": [
        "<a href=\"https://colab.research.google.com/github/andrewgray11/msds432finalproject/blob/main/Chicago_lat_long_to_Community_Areas_API_calls.ipynb\" target=\"_parent\"><img src=\"https://colab.research.google.com/assets/colab-badge.svg\" alt=\"Open In Colab\"/></a>"
      ]
    },
    {
      "cell_type": "code",
      "execution_count": null,
      "metadata": {
        "id": "IJxAU4LMfwd1"
      },
      "outputs": [],
      "source": [
        "import csv\n",
        "import requests\n",
        "import json\n",
        "\n",
        "def get_community_area(lat, lng):\n",
        "    # Define the API endpoint and request parameters\n",
        "    url = \"https://data.cityofchicago.org/resource/igwz-8jzy.json\"\n",
        "    params = {\n",
        "        \"$where\": f\"within_circle(location, {lat}, {lng}, 100)\"\n",
        "    }\n",
        "    headers = {\n",
        "        \"X-App-Token\": \"b4aeprbmm7gsyjf1jede4pe44\"\n",
        "    }\n",
        "\n",
        "    # Send the POST request to the API endpoint\n",
        "    response = requests.post(url, headers=headers, params=params)\n",
        "\n",
        "    # Parse the JSON response and extract the community area number and name\n",
        "    try:\n",
        "        data = json.loads(response.text)\n",
        "        community_area_number = data[0][\"area_numbe\"]\n",
        "        community_area_name = data[0][\"community\"]\n",
        "        return community_area_number, community_area_name\n",
        "    except:\n",
        "        return None\n",
        "\n",
        "# Open the input CSV file and create the output CSV file\n",
        "with open(\"/content/New_Construction_Permits_20-23.csv\", \"r\") as input_file, open(\"output_file.csv\", \"w\", newline=\"\") as output_file:\n",
        "    reader = csv.DictReader(input_file)\n",
        "    fieldnames = reader.fieldnames + [\"community_area_number\", \"community_area_name\"]\n",
        "    writer = csv.DictWriter(output_file, fieldnames=fieldnames)\n",
        "    writer.writeheader()\n",
        "\n",
        "    # Find the latitude and longitude columns\n",
        "    lat_column = \"LATITUDE\" if \"LATITUDE\" in reader.fieldnames else None\n",
        "    lng_column = \"LONGITUDE\" if \"LONGITUDE\" in reader.fieldnames else None\n",
        "    if not lat_column or not lng_column:\n",
        "        raise ValueError(\"Latitude and/or longitude column not found\")\n",
        "\n",
        "    # Iterate through each row in the input CSV file\n",
        "    for row in reader:\n",
        "        lat = row[lat_column]\n",
        "        lng = row[lng_column]\n",
        "\n",
        "        # Check that the latitude and longitude values are not empty or missing\n",
        "        if lat and lng:\n",
        "            try:\n",
        "                lat = float(lat)\n",
        "                lng = float(lng)\n",
        "            except ValueError:\n",
        "                continue # Skip this row if latitude or longitude cannot be converted to a float\n",
        "\n",
        "        # Retrieve the community area for the lat/long pair\n",
        "        result = get_community_area(lat, lng)\n",
        "        if result:\n",
        "            row[\"community_area_number\"] = result[0]\n",
        "            row[\"community_area_name\"] = result[1]\n",
        "        else:\n",
        "            row[\"community_area_number\"] = \"\"\n",
        "            row[\"community_area_name\"] = \"\"\n",
        "\n",
        "        # Write the updated row to the output CSV file\n",
        "        writer.writerow(row)\n"
      ]
    },
    {
      "cell_type": "code",
      "source": [
        "import requests\n",
        "import json\n",
        "import base64\n",
        "\n",
        "def get_community_area(lat, lng, creds):\n",
        "    # Define the API endpoint and request parameters\n",
        "    url = \"https://data.cityofchicago.org/resource/igwz-8jzy.json\"\n",
        "    params = {\n",
        "        \"$where\": f\"within_circle(location, {lat}, {lng}, 100)\"\n",
        "    }\n",
        "    headers = {\n",
        "        \"Authorization\": f\"Basic {creds}\",\n",
        "        \"X-App-Token\": \"ffxzcvmigrRn4GPnQbXtJagW6\"\n",
        "        \n",
        "    }\n",
        "\n",
        "    # Send the POST request to the API endpoint\n",
        "    response = requests.post(url, headers=headers, params=params)\n",
        "    print(response.json())\n",
        "    # Parse the JSON response and extract the community area number and name\n",
        "    try:\n",
        "        data = json.loads(response.text)\n",
        "        community_area_number = data[0][\"area_num_1\"]\n",
        "        community_area_name = data[0][\"community\"]\n",
        "        return community_area_number, community_area_name\n",
        "    except:\n",
        "        return None\n",
        "\n",
        "# Example usage\n",
        "lat_lng_pairs = [\n",
        "    (41.883811, -87.631749),\n",
        "    (41.881832, -87.625923),\n",
        "    (41.881876, -87.627459)\n",
        "]\n",
        "\n",
        "for lat, lng in lat_lng_pairs:\n",
        "    result = get_community_area(lat, lng, \"YW5kcmV3Z3JheTIwMjJAdS5ub3J0aHdlc3Rlcm4uZWR1OkRDbjNKIzY0ZDJpdQ==\")\n",
        "    if result:\n",
        "        print(f\"Lat/long ({lat}, {lng}) is in community area {result[0]} ({result[1]})\")\n",
        "    else:\n",
        "        print(f\"Unable to determine community area for lat/long ({lat}, {lng})\")\n"
      ],
      "metadata": {
        "colab": {
          "base_uri": "https://localhost:8080/"
        },
        "id": "NuKk3j444Tgj",
        "outputId": "f5322dc5-0595-41d6-8489-a18c72a22e58"
      },
      "execution_count": null,
      "outputs": [
        {
          "output_type": "stream",
          "name": "stdout",
          "text": [
            "{'error': True, 'message': \"User d22e-jwf4 doesn't have access to view igwz-8jzy\"}\n",
            "Unable to determine community area for lat/long (41.883811, -87.631749)\n",
            "{'error': True, 'message': \"User d22e-jwf4 doesn't have access to view igwz-8jzy\"}\n",
            "Unable to determine community area for lat/long (41.881832, -87.625923)\n",
            "{'error': True, 'message': \"User d22e-jwf4 doesn't have access to view igwz-8jzy\"}\n",
            "Unable to determine community area for lat/long (41.881876, -87.627459)\n"
          ]
        }
      ]
    },
    {
      "cell_type": "code",
      "source": [
        "pip install sodapy"
      ],
      "metadata": {
        "colab": {
          "base_uri": "https://localhost:8080/"
        },
        "id": "T7h81FsqFmz9",
        "outputId": "b2f26ee9-58d8-48da-c38e-95038cad4eaf"
      },
      "execution_count": null,
      "outputs": [
        {
          "output_type": "stream",
          "name": "stdout",
          "text": [
            "Looking in indexes: https://pypi.org/simple, https://us-python.pkg.dev/colab-wheels/public/simple/\n",
            "Requirement already satisfied: sodapy in /usr/local/lib/python3.9/dist-packages (2.2.0)\n",
            "Requirement already satisfied: requests>=2.28.1 in /usr/local/lib/python3.9/dist-packages (from sodapy) (2.28.2)\n",
            "Requirement already satisfied: idna<4,>=2.5 in /usr/local/lib/python3.9/dist-packages (from requests>=2.28.1->sodapy) (2.10)\n",
            "Requirement already satisfied: urllib3<1.27,>=1.21.1 in /usr/local/lib/python3.9/dist-packages (from requests>=2.28.1->sodapy) (1.26.14)\n",
            "Requirement already satisfied: charset-normalizer<4,>=2 in /usr/local/lib/python3.9/dist-packages (from requests>=2.28.1->sodapy) (3.1.0)\n",
            "Requirement already satisfied: certifi>=2017.4.17 in /usr/local/lib/python3.9/dist-packages (from requests>=2.28.1->sodapy) (2022.12.7)\n"
          ]
        }
      ]
    },
    {
      "cell_type": "code",
      "source": [
        "from sodapy import Socrata\n",
        "import json\n",
        "\n",
        "def get_community_area(lat, lng):\n",
        "    # Define the API endpoint and request parameters\n",
        "    client = Socrata(\"data.cityofchicago.org\", \"ffxzcvmigrRn4GPnQbXtJagW6\") \n",
        "    params = {\n",
        "        \"$where\": f\"within_circle(location, {lat}, {lng}, 100)\"\n",
        "    }\n",
        "\n",
        "    # Send the GET request to the API endpoint\n",
        "    try:\n",
        "        data = client.get(\"igwz-8jzy\", params=params)\n",
        "        json_response = json.dumps(data, indent=2) # get the JSON response\n",
        "        print(json_response) # print the JSON response\n",
        "    except:\n",
        "        print(json_response)\n",
        "# Example usage\n",
        "lat_lng_pairs = [\n",
        "    (41.883811, -87.631749),\n",
        "    (41.881832, -87.625923),\n",
        "    (41.881876, -87.627459)\n",
        "]\n",
        "\n",
        "for lat, lng in lat_lng_pairs:\n",
        "    get_community_area(lat, lng)\n"
      ],
      "metadata": {
        "colab": {
          "base_uri": "https://localhost:8080/",
          "height": 450
        },
        "id": "x6XRKvYRFL5D",
        "outputId": "ce97b452-5761-461b-eaa7-39c3a456e60e"
      },
      "execution_count": null,
      "outputs": [
        {
          "output_type": "error",
          "ename": "UnboundLocalError",
          "evalue": "ignored",
          "traceback": [
            "\u001b[0;31m---------------------------------------------------------------------------\u001b[0m",
            "\u001b[0;31mHTTPError\u001b[0m                                 Traceback (most recent call last)",
            "\u001b[0;32m<ipython-input-10-beed934bb803>\u001b[0m in \u001b[0;36mget_community_area\u001b[0;34m(lat, lng)\u001b[0m\n\u001b[1;32m     12\u001b[0m     \u001b[0;32mtry\u001b[0m\u001b[0;34m:\u001b[0m\u001b[0;34m\u001b[0m\u001b[0;34m\u001b[0m\u001b[0m\n\u001b[0;32m---> 13\u001b[0;31m         \u001b[0mdata\u001b[0m \u001b[0;34m=\u001b[0m \u001b[0mclient\u001b[0m\u001b[0;34m.\u001b[0m\u001b[0mget\u001b[0m\u001b[0;34m(\u001b[0m\u001b[0;34m\"igwz-8jzy\"\u001b[0m\u001b[0;34m,\u001b[0m \u001b[0mparams\u001b[0m\u001b[0;34m=\u001b[0m\u001b[0mparams\u001b[0m\u001b[0;34m)\u001b[0m\u001b[0;34m\u001b[0m\u001b[0;34m\u001b[0m\u001b[0m\n\u001b[0m\u001b[1;32m     14\u001b[0m         \u001b[0mjson_response\u001b[0m \u001b[0;34m=\u001b[0m \u001b[0mjson\u001b[0m\u001b[0;34m.\u001b[0m\u001b[0mdumps\u001b[0m\u001b[0;34m(\u001b[0m\u001b[0mdata\u001b[0m\u001b[0;34m,\u001b[0m \u001b[0mindent\u001b[0m\u001b[0;34m=\u001b[0m\u001b[0;36m2\u001b[0m\u001b[0;34m)\u001b[0m \u001b[0;31m# get the JSON response\u001b[0m\u001b[0;34m\u001b[0m\u001b[0;34m\u001b[0m\u001b[0m\n",
            "\u001b[0;32m/usr/local/lib/python3.9/dist-packages/sodapy/socrata.py\u001b[0m in \u001b[0;36mget\u001b[0;34m(self, dataset_identifier, content_type, **kwargs)\u001b[0m\n\u001b[1;32m    411\u001b[0m \u001b[0;34m\u001b[0m\u001b[0m\n\u001b[0;32m--> 412\u001b[0;31m         response = self._perform_request(\n\u001b[0m\u001b[1;32m    413\u001b[0m             \u001b[0;34m\"get\"\u001b[0m\u001b[0;34m,\u001b[0m \u001b[0mresource\u001b[0m\u001b[0;34m,\u001b[0m \u001b[0mheaders\u001b[0m\u001b[0;34m=\u001b[0m\u001b[0mheaders\u001b[0m\u001b[0;34m,\u001b[0m \u001b[0mparams\u001b[0m\u001b[0;34m=\u001b[0m\u001b[0mparams\u001b[0m\u001b[0;34m\u001b[0m\u001b[0;34m\u001b[0m\u001b[0m\n",
            "\u001b[0;32m/usr/local/lib/python3.9/dist-packages/sodapy/socrata.py\u001b[0m in \u001b[0;36m_perform_request\u001b[0;34m(self, request_type, resource, **kwargs)\u001b[0m\n\u001b[1;32m    554\u001b[0m         \u001b[0;32mif\u001b[0m \u001b[0mresponse\u001b[0m\u001b[0;34m.\u001b[0m\u001b[0mstatus_code\u001b[0m \u001b[0;32mnot\u001b[0m \u001b[0;32min\u001b[0m \u001b[0;34m(\u001b[0m\u001b[0;36m200\u001b[0m\u001b[0;34m,\u001b[0m \u001b[0;36m202\u001b[0m\u001b[0;34m)\u001b[0m\u001b[0;34m:\u001b[0m\u001b[0;34m\u001b[0m\u001b[0;34m\u001b[0m\u001b[0m\n\u001b[0;32m--> 555\u001b[0;31m             \u001b[0mutils\u001b[0m\u001b[0;34m.\u001b[0m\u001b[0mraise_for_status\u001b[0m\u001b[0;34m(\u001b[0m\u001b[0mresponse\u001b[0m\u001b[0;34m)\u001b[0m\u001b[0;34m\u001b[0m\u001b[0;34m\u001b[0m\u001b[0m\n\u001b[0m\u001b[1;32m    556\u001b[0m \u001b[0;34m\u001b[0m\u001b[0m\n",
            "\u001b[0;32m/usr/local/lib/python3.9/dist-packages/sodapy/utils.py\u001b[0m in \u001b[0;36mraise_for_status\u001b[0;34m(response)\u001b[0m\n\u001b[1;32m     29\u001b[0m             \u001b[0mhttp_error_msg\u001b[0m \u001b[0;34m+=\u001b[0m \u001b[0;34m\".\\n\\t{}\"\u001b[0m\u001b[0;34m.\u001b[0m\u001b[0mformat\u001b[0m\u001b[0;34m(\u001b[0m\u001b[0mmore_info\u001b[0m\u001b[0;34m)\u001b[0m\u001b[0;34m\u001b[0m\u001b[0;34m\u001b[0m\u001b[0m\n\u001b[0;32m---> 30\u001b[0;31m         \u001b[0;32mraise\u001b[0m \u001b[0mrequests\u001b[0m\u001b[0;34m.\u001b[0m\u001b[0mexceptions\u001b[0m\u001b[0;34m.\u001b[0m\u001b[0mHTTPError\u001b[0m\u001b[0;34m(\u001b[0m\u001b[0mhttp_error_msg\u001b[0m\u001b[0;34m,\u001b[0m \u001b[0mresponse\u001b[0m\u001b[0;34m=\u001b[0m\u001b[0mresponse\u001b[0m\u001b[0;34m)\u001b[0m\u001b[0;34m\u001b[0m\u001b[0;34m\u001b[0m\u001b[0m\n\u001b[0m\u001b[1;32m     31\u001b[0m \u001b[0;34m\u001b[0m\u001b[0m\n",
            "\u001b[0;31mHTTPError\u001b[0m: 400 Client Error: Bad Request.\n\tUnrecognized arguments [params]",
            "\nDuring handling of the above exception, another exception occurred:\n",
            "\u001b[0;31mUnboundLocalError\u001b[0m                         Traceback (most recent call last)",
            "\u001b[0;32m<ipython-input-10-beed934bb803>\u001b[0m in \u001b[0;36m<module>\u001b[0;34m\u001b[0m\n\u001b[1;32m     24\u001b[0m \u001b[0;34m\u001b[0m\u001b[0m\n\u001b[1;32m     25\u001b[0m \u001b[0;32mfor\u001b[0m \u001b[0mlat\u001b[0m\u001b[0;34m,\u001b[0m \u001b[0mlng\u001b[0m \u001b[0;32min\u001b[0m \u001b[0mlat_lng_pairs\u001b[0m\u001b[0;34m:\u001b[0m\u001b[0;34m\u001b[0m\u001b[0;34m\u001b[0m\u001b[0m\n\u001b[0;32m---> 26\u001b[0;31m     \u001b[0mget_community_area\u001b[0m\u001b[0;34m(\u001b[0m\u001b[0mlat\u001b[0m\u001b[0;34m,\u001b[0m \u001b[0mlng\u001b[0m\u001b[0;34m)\u001b[0m\u001b[0;34m\u001b[0m\u001b[0;34m\u001b[0m\u001b[0m\n\u001b[0m",
            "\u001b[0;32m<ipython-input-10-beed934bb803>\u001b[0m in \u001b[0;36mget_community_area\u001b[0;34m(lat, lng)\u001b[0m\n\u001b[1;32m     15\u001b[0m         \u001b[0mprint\u001b[0m\u001b[0;34m(\u001b[0m\u001b[0mjson_response\u001b[0m\u001b[0;34m)\u001b[0m \u001b[0;31m# print the JSON response\u001b[0m\u001b[0;34m\u001b[0m\u001b[0;34m\u001b[0m\u001b[0m\n\u001b[1;32m     16\u001b[0m     \u001b[0;32mexcept\u001b[0m\u001b[0;34m:\u001b[0m\u001b[0;34m\u001b[0m\u001b[0;34m\u001b[0m\u001b[0m\n\u001b[0;32m---> 17\u001b[0;31m         \u001b[0mprint\u001b[0m\u001b[0;34m(\u001b[0m\u001b[0mjson_response\u001b[0m\u001b[0;34m)\u001b[0m\u001b[0;34m\u001b[0m\u001b[0;34m\u001b[0m\u001b[0m\n\u001b[0m\u001b[1;32m     18\u001b[0m \u001b[0;31m# Example usage\u001b[0m\u001b[0;34m\u001b[0m\u001b[0;34m\u001b[0m\u001b[0m\n\u001b[1;32m     19\u001b[0m lat_lng_pairs = [\n",
            "\u001b[0;31mUnboundLocalError\u001b[0m: local variable 'json_response' referenced before assignment"
          ]
        }
      ]
    },
    {
      "cell_type": "code",
      "source": [
        "import requests\n",
        "from requests.auth import AuthBase\n",
        "from sodapy import Socrata\n",
        "\n",
        "# Define your OAuth2 credentials\n",
        "username = 'andrewgray2022@u.northwestern.edu'\n",
        "password = 'DCn3J#64d2iu'\n",
        "\n",
        "# Define an OAuth2 authentication class\n",
        "class OAuth2Auth(AuthBase):\n",
        "    def __init__(self, access_token):\n",
        "        self.access_token = access_token\n",
        "\n",
        "    def __call__(self, r):\n",
        "        r.headers['Authorization'] = 'Bearer ' + self.access_token\n",
        "        return r\n",
        "\n",
        "# Obtain an access token using your OAuth2 credentials\n",
        "client = Socrata('data.cityofchicago.org', 'ffxzcvmigrRn4GPnQbXtJagW6', username=username, password=password, timeout=60)\n",
        "token = client.get_new_token()\n",
        "\n",
        "# Make an authenticated request using the access token\n",
        "url = 'https://data.cityofchicago.org/resource/igwz-8jzy.json'\n",
        "params = {'$limit': 10}\n",
        "auth = OAuth2Auth(token['access_token'])\n",
        "response = requests.get(url, params=params, auth=auth)\n",
        "print(response.json())"
      ],
      "metadata": {
        "colab": {
          "base_uri": "https://localhost:8080/",
          "height": 235
        },
        "id": "gCKf1sm6Ia7Y",
        "outputId": "aef86c64-3ef0-43b2-a9e4-86ffd3c8f816"
      },
      "execution_count": null,
      "outputs": [
        {
          "output_type": "error",
          "ename": "AttributeError",
          "evalue": "ignored",
          "traceback": [
            "\u001b[0;31m---------------------------------------------------------------------------\u001b[0m",
            "\u001b[0;31mAttributeError\u001b[0m                            Traceback (most recent call last)",
            "\u001b[0;32m<ipython-input-12-1dce08a5d593>\u001b[0m in \u001b[0;36m<module>\u001b[0;34m\u001b[0m\n\u001b[1;32m     18\u001b[0m \u001b[0;31m# Obtain an access token using your OAuth2 credentials\u001b[0m\u001b[0;34m\u001b[0m\u001b[0;34m\u001b[0m\u001b[0m\n\u001b[1;32m     19\u001b[0m \u001b[0mclient\u001b[0m \u001b[0;34m=\u001b[0m \u001b[0mSocrata\u001b[0m\u001b[0;34m(\u001b[0m\u001b[0;34m'data.cityofchicago.org'\u001b[0m\u001b[0;34m,\u001b[0m \u001b[0;34m'ffxzcvmigrRn4GPnQbXtJagW6'\u001b[0m\u001b[0;34m,\u001b[0m \u001b[0musername\u001b[0m\u001b[0;34m=\u001b[0m\u001b[0musername\u001b[0m\u001b[0;34m,\u001b[0m \u001b[0mpassword\u001b[0m\u001b[0;34m=\u001b[0m\u001b[0mpassword\u001b[0m\u001b[0;34m,\u001b[0m \u001b[0mtimeout\u001b[0m\u001b[0;34m=\u001b[0m\u001b[0;36m60\u001b[0m\u001b[0;34m)\u001b[0m\u001b[0;34m\u001b[0m\u001b[0;34m\u001b[0m\u001b[0m\n\u001b[0;32m---> 20\u001b[0;31m \u001b[0mtoken\u001b[0m \u001b[0;34m=\u001b[0m \u001b[0mclient\u001b[0m\u001b[0;34m.\u001b[0m\u001b[0mget_new_token\u001b[0m\u001b[0;34m(\u001b[0m\u001b[0;34m)\u001b[0m\u001b[0;34m\u001b[0m\u001b[0;34m\u001b[0m\u001b[0m\n\u001b[0m\u001b[1;32m     21\u001b[0m \u001b[0;34m\u001b[0m\u001b[0m\n\u001b[1;32m     22\u001b[0m \u001b[0;31m# Make an authenticated request using the access token\u001b[0m\u001b[0;34m\u001b[0m\u001b[0;34m\u001b[0m\u001b[0m\n",
            "\u001b[0;31mAttributeError\u001b[0m: 'Socrata' object has no attribute 'get_new_token'"
          ]
        }
      ]
    },
    {
      "cell_type": "code",
      "source": [
        "import requests\n",
        "from sodapy import Socrata\n",
        "\n",
        "# OAuth2 authentication details\n",
        "client_id = 'b4aeprbmm7gsyjf1jede4pe44'\n",
        "client_secret = '5p202ooisasatpp8ohpia906oubzgoyjth39h6irn7f1wqkdv5'\n",
        "username = 'andrewgray2022@u.northwestern.edu'\n",
        "password = 'DCn3J#64d2iu'\n",
        "token_url = 'https://data.cityofchicago.org/oauth/token'\n",
        "\n",
        "# Get an access token\n",
        "auth = requests.auth.HTTPBasicAuth(client_id, client_secret)\n",
        "data = {'grant_type': 'password', 'username': username, 'password': password}\n",
        "headers = {'User-Agent': 'msds 432'}\n",
        "response = requests.post(token_url, auth=auth, data=data, headers=headers)\n",
        "access_token = response.json()['']\n",
        "\n",
        "# Connect to the Socrata API with the access token\n",
        "domain = 'data.cityofchicago.org'\n",
        "dataset_id = 'igwz-8jzy'\n",
        "client = Socrata(domain, access_token=access_token)\n",
        "results = client.get(dataset_id, limit=10)\n",
        "print(results)"
      ],
      "metadata": {
        "colab": {
          "base_uri": "https://localhost:8080/",
          "height": 235
        },
        "id": "q_uAFuPuJlUA",
        "outputId": "b2d8a054-affd-4927-c89e-636814adf19c"
      },
      "execution_count": null,
      "outputs": [
        {
          "output_type": "error",
          "ename": "KeyError",
          "evalue": "ignored",
          "traceback": [
            "\u001b[0;31m---------------------------------------------------------------------------\u001b[0m",
            "\u001b[0;31mKeyError\u001b[0m                                  Traceback (most recent call last)",
            "\u001b[0;32m<ipython-input-15-b618b5605499>\u001b[0m in \u001b[0;36m<module>\u001b[0;34m\u001b[0m\n\u001b[1;32m     14\u001b[0m \u001b[0mheaders\u001b[0m \u001b[0;34m=\u001b[0m \u001b[0;34m{\u001b[0m\u001b[0;34m'User-Agent'\u001b[0m\u001b[0;34m:\u001b[0m \u001b[0;34m'msds 432'\u001b[0m\u001b[0;34m}\u001b[0m\u001b[0;34m\u001b[0m\u001b[0;34m\u001b[0m\u001b[0m\n\u001b[1;32m     15\u001b[0m \u001b[0mresponse\u001b[0m \u001b[0;34m=\u001b[0m \u001b[0mrequests\u001b[0m\u001b[0;34m.\u001b[0m\u001b[0mpost\u001b[0m\u001b[0;34m(\u001b[0m\u001b[0mtoken_url\u001b[0m\u001b[0;34m,\u001b[0m \u001b[0mauth\u001b[0m\u001b[0;34m=\u001b[0m\u001b[0mauth\u001b[0m\u001b[0;34m,\u001b[0m \u001b[0mdata\u001b[0m\u001b[0;34m=\u001b[0m\u001b[0mdata\u001b[0m\u001b[0;34m,\u001b[0m \u001b[0mheaders\u001b[0m\u001b[0;34m=\u001b[0m\u001b[0mheaders\u001b[0m\u001b[0;34m)\u001b[0m\u001b[0;34m\u001b[0m\u001b[0;34m\u001b[0m\u001b[0m\n\u001b[0;32m---> 16\u001b[0;31m \u001b[0maccess_token\u001b[0m \u001b[0;34m=\u001b[0m \u001b[0mresponse\u001b[0m\u001b[0;34m.\u001b[0m\u001b[0mjson\u001b[0m\u001b[0;34m(\u001b[0m\u001b[0;34m)\u001b[0m\u001b[0;34m[\u001b[0m\u001b[0;34m'H6p_3h9DhoJVtlVW_m0hBUo07O2nO7WyVFLN'\u001b[0m\u001b[0;34m]\u001b[0m\u001b[0;34m\u001b[0m\u001b[0;34m\u001b[0m\u001b[0m\n\u001b[0m\u001b[1;32m     17\u001b[0m \u001b[0;34m\u001b[0m\u001b[0m\n\u001b[1;32m     18\u001b[0m \u001b[0;31m# Connect to the Socrata API with the access token\u001b[0m\u001b[0;34m\u001b[0m\u001b[0;34m\u001b[0m\u001b[0m\n",
            "\u001b[0;31mKeyError\u001b[0m: 'H6p_3h9DhoJVtlVW_m0hBUo07O2nO7WyVFLN'"
          ]
        }
      ]
    }
  ]
}